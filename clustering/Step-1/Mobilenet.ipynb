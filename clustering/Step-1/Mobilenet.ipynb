{
 "cells": [
  {
   "cell_type": "code",
   "execution_count": 0,
   "metadata": {
    "colab": {},
    "colab_type": "code",
    "id": "9asBqrU8mJgS"
   },
   "outputs": [],
   "source": [
    "import os\n",
    "os.environ[\"JAVA_HOME\"] = \"/usr/lib/jvm/java-8-openjdk-amd64\"\n",
    "os.environ[\"SPARK_HOME\"] = \"/content/spark-2.4.5-bin-hadoop2.7\""
   ]
  },
  {
   "cell_type": "code",
   "execution_count": 0,
   "metadata": {
    "colab": {},
    "colab_type": "code",
    "id": "eNx7g8TPmKzp"
   },
   "outputs": [],
   "source": [
    "import findspark\n",
    "findspark.init()\n",
    "from pyspark.sql import SparkSession\n",
    "from pyspark import SparkContext"
   ]
  },
  {
   "cell_type": "code",
   "execution_count": 0,
   "metadata": {
    "colab": {},
    "colab_type": "code",
    "id": "ZP8GSDfwmMGR"
   },
   "outputs": [],
   "source": [
    "from pyspark import SparkContext\n",
    "from pyspark.sql import SQLContext\n",
    "from pyspark.sql.types import *\n",
    "from pyspark.sql.functions import *"
   ]
  },
  {
   "cell_type": "code",
   "execution_count": 0,
   "metadata": {
    "colab": {},
    "colab_type": "code",
    "id": "uamYQ53QmNis"
   },
   "outputs": [],
   "source": [
    "from pyspark import SparkContext\n",
    "from pyspark.sql import SQLContext\n",
    "from pyspark.sql import SparkSession\n",
    "from pyspark.conf import SparkConf"
   ]
  },
  {
   "cell_type": "code",
   "execution_count": 0,
   "metadata": {
    "colab": {},
    "colab_type": "code",
    "id": "ygOsCt-EmPM2"
   },
   "outputs": [],
   "source": [
    "sc = SparkContext()\n",
    "spark = SparkSession(sc)\n",
    "sqlContext = SQLContext(sc)"
   ]
  },
  {
   "cell_type": "code",
   "execution_count": 8,
   "metadata": {
    "colab": {
     "base_uri": "https://localhost:8080/",
     "height": 73
    },
    "colab_type": "code",
    "id": "ho24wXuVrQUp",
    "outputId": "e3245c4f-fa22-42b7-a8bd-cfef0867f337"
   },
   "outputs": [
    {
     "data": {
      "text/plain": [
       "[(33.6894754264, -117.543308253, '2014-03-15:10:10:20', 'Sorrento', 'F41L'),\n",
       " (37.4321088904, -121.485029632, '2014-03-15:10:10:20', 'MeeToo', '1.0'),\n",
       " (39.4378908349, -120.938978486, '2014-03-15:10:10:20', 'MeeToo', '1.0')]"
      ]
     },
     "execution_count": 8,
     "metadata": {
      "tags": []
     },
     "output_type": "execute_result"
    }
   ],
   "source": [
    "import re\n",
    "\n",
    "infile = \"s3://srifinal007/devicestatus.txt\"\n",
    "\n",
    "d2 = sc.textFile(infile)\n",
    "d3 = d2.map(lambda x: re.sub(\"[]\\/|]\", \",\" ,x).split(\",\"))\n",
    "d4 = d3.map(lambda x: (float(x[-2]), float(x[-1]), x[0], x[1].split()))\n",
    "d5 = d4.map(lambda x: (x[0],x[1],x[2],x[3][0],x[3][1]))\n",
    "d6 = d5.filter(lambda x: x[0] != 0 and x[1] != 0)\n",
    "\n",
    "d6.take(3)"
   ]
  },
  {
   "cell_type": "code",
   "execution_count": 0,
   "metadata": {
    "colab": {},
    "colab_type": "code",
    "id": "Ipik1Ax7Ynnp"
   },
   "outputs": [],
   "source": [
    "from pyspark.sql import types\n",
    "sdf = spark.createDataFrame(d6, schema=types.StructType([\\\n",
    "                                                        types.StructField('latitude', types.FloatType(),True),\n",
    "                                                        types.StructField('longtitude', types.FloatType(),True),\n",
    "                                                        types.StructField('datestr', types.StringType(),True),\n",
    "                                                        types.StructField('manufacturer', types.StringType(),True),\n",
    "                                                        types.StructField('model_name', types.StringType(),True)\n",
    "]))"
   ]
  },
  {
   "cell_type": "code",
   "execution_count": 0,
   "metadata": {
    "colab": {},
    "colab_type": "code",
    "id": "EPVfbVfYP0sJ"
   },
   "outputs": [],
   "source": [
    "from  pyspark.sql.functions import col,unix_timestamp, from_unixtime\n",
    "\n",
    "df = sdf.withColumn('date', from_unixtime(unix_timestamp(col('datestr'), 'yy-MM-dd:HH:mm:ss').alias('date')))\n",
    "df = df.select(df.latitude,df.longtitude,df.date,df.manufacturer,df.model_name)"
   ]
  },
  {
   "cell_type": "code",
   "execution_count": 0,
   "metadata": {
    "colab": {},
    "colab_type": "code",
    "id": "WdKtozuRP2_2"
   },
   "outputs": [],
   "source": [
    "outfile = \"s3://srifinal007/parsed_data\""
   ]
  },
  {
   "cell_type": "code",
   "execution_count": 0,
   "metadata": {
    "colab": {},
    "colab_type": "code",
    "id": "c4jCFhtkRUZP"
   },
   "outputs": [],
   "source": [
    "df.rdd.coalesce(1).saveAsTextFile(outfile)"
   ]
  },
  {
   "cell_type": "code",
   "execution_count": 13,
   "metadata": {
    "colab": {
     "base_uri": "https://localhost:8080/",
     "height": 205
    },
    "colab_type": "code",
    "id": "mv6Q9CoyP7ac",
    "outputId": "5f4aab3a-6702-4c5a-b2d0-838dadeac848"
   },
   "outputs": [
    {
     "data": {
      "text/plain": [
       "[\"Row(latitude=33.689476013183594, longtitude=-117.54330444335938, date='2014-03-15 10:10:20', manufacturer='Sorrento', model_name='F41L')\",\n",
       " \"Row(latitude=37.43210983276367, longtitude=-121.48503112792969, date='2014-03-15 10:10:20', manufacturer='MeeToo', model_name='1.0')\",\n",
       " \"Row(latitude=39.437889099121094, longtitude=-120.93898010253906, date='2014-03-15 10:10:20', manufacturer='MeeToo', model_name='1.0')\",\n",
       " \"Row(latitude=39.36351776123047, longtitude=-119.40033721923828, date='2014-03-15 10:10:20', manufacturer='Sorrento', model_name='F41L')\",\n",
       " \"Row(latitude=33.19135665893555, longtitude=-116.4482421875, date='2014-03-15 10:10:20', manufacturer='Ronin', model_name='Novelty')\",\n",
       " \"Row(latitude=33.834354400634766, longtitude=-117.33000183105469, date='2014-03-15 10:10:20', manufacturer='Sorrento', model_name='F41L')\",\n",
       " \"Row(latitude=37.380393981933594, longtitude=-121.84075927734375, date='2014-03-15 10:10:20', manufacturer='Sorrento', model_name='F33L')\",\n",
       " \"Row(latitude=34.184104919433594, longtitude=-117.94353485107422, date='2014-03-15 10:10:20', manufacturer='MeeToo', model_name='4.1')\",\n",
       " \"Row(latitude=32.285057067871094, longtitude=-111.819580078125, date='2014-03-15 10:10:20', manufacturer='Ronin', model_name='Novelty')\",\n",
       " \"Row(latitude=45.24005126953125, longtitude=-122.3774642944336, date='2014-03-15 10:10:20', manufacturer='Sorrento', model_name='F41L')\"]"
      ]
     },
     "execution_count": 13,
     "metadata": {
      "tags": []
     },
     "output_type": "execute_result"
    }
   ],
   "source": [
    "sc.textFile(output_bucket).take(10)"
   ]
  },
  {
   "cell_type": "code",
   "execution_count": 0,
   "metadata": {
    "colab": {},
    "colab_type": "code",
    "id": "DNLrHUv2QCtl"
   },
   "outputs": [],
   "source": [
    "coordinates = d6.map(lambda x: (x[0],x[1])).collect()"
   ]
  },
  {
   "cell_type": "code",
   "execution_count": 0,
   "metadata": {
    "colab": {},
    "colab_type": "code",
    "id": "RS5JYo00QIIO"
   },
   "outputs": [],
   "source": [
    "import numpy as np\n",
    "coordinates = np.array(coordinates)"
   ]
  },
  {
   "cell_type": "code",
   "execution_count": 17,
   "metadata": {
    "colab": {
     "base_uri": "https://localhost:8080/",
     "height": 483
    },
    "colab_type": "code",
    "id": "-Nern9i4QJ47",
    "outputId": "eee4c60c-7ecd-4d7a-c951-3ce221b02058"
   },
   "outputs": [
    {
     "data": {
      "image/png": "[encoded data removed]",
      "text/plain": [
       "<Figure size 576x576 with 1 Axes>"
      ]
     },
     "metadata": {
      "tags": []
     },
     "output_type": "display_data"
    }
   ],
   "source": [
    "import matplotlib.pyplot as plt\n",
    "from matplotlib.pyplot import figure\n",
    "figure(figsize = (8, 8))\n",
    "plt.scatter(coordinates[:,1], coordinates[:,0], s = 7, c = \"blue\", marker = \"X\", alpha = 0.25, linewidths = 1)\n",
    "plt.show()"
   ]
  }
 ],
 "metadata": {
  "colab": {
   "name": "SRI_MOBILENET.ipynb",
   "provenance": []
  },
  "kernelspec": {
   "display_name": "Python 3",
   "language": "python",
   "name": "python3"
  },
  "language_info": {
   "codemirror_mode": {
    "name": "ipython",
    "version": 3
   },
   "file_extension": ".py",
   "mimetype": "text/x-python",
   "name": "python",
   "nbconvert_exporter": "python",
   "pygments_lexer": "ipython3",
   "version": "3.7.6"
  }
 },
 "nbformat": 4,
 "nbformat_minor": 1
}
